{
 "cells": [
  {
   "cell_type": "code",
   "execution_count": 1,
   "metadata": {},
   "outputs": [],
   "source": [
    "import sys\n",
    "import numpy\n",
    "import matplotlib\n",
    "import pandas\n",
    "import sklearn\n"
   ]
  },
  {
   "cell_type": "code",
   "execution_count": 10,
   "metadata": {},
   "outputs": [],
   "source": [
    "import numpy as np\n",
    "from sklearn import preprocessing,cross_validation,model_selection\n",
    "from sklearn.neighbors import KNeighborsClassifier\n",
    "from sklearn.svm import SVC\n",
    "from sklearn.metrics import classification_report,accuracy_score\n",
    "import matplotlib.pyplot as plt\n",
    "import pandas as pd"
   ]
  },
  {
   "cell_type": "code",
   "execution_count": 11,
   "metadata": {},
   "outputs": [],
   "source": [
    "url = 'https://archive.ics.uci.edu/ml/machine-learning-databases/breast-cancer-wisconsin/breast-cancer-wisconsin.data'\n",
    "##Adding the fields which we require\n",
    "names = ['clump_thickness', 'univore_cell_size','uniform_cell_shape','marginal_adhesion','signal_epithelial_size','bare_nuclei',\n",
    "        'bland_chromatin','normal_nucleoli','mitoses','class']\n",
    "db = pd.read_csv(url, names = names)"
   ]
  },
  {
   "cell_type": "code",
   "execution_count": 12,
   "metadata": {},
   "outputs": [
    {
     "data": {
      "text/html": [
       "<div>\n",
       "<style scoped>\n",
       "    .dataframe tbody tr th:only-of-type {\n",
       "        vertical-align: middle;\n",
       "    }\n",
       "\n",
       "    .dataframe tbody tr th {\n",
       "        vertical-align: top;\n",
       "    }\n",
       "\n",
       "    .dataframe thead th {\n",
       "        text-align: right;\n",
       "    }\n",
       "</style>\n",
       "<table border=\"1\" class=\"dataframe\">\n",
       "  <thead>\n",
       "    <tr style=\"text-align: right;\">\n",
       "      <th></th>\n",
       "      <th>clump_thickness</th>\n",
       "      <th>univore_cell_size</th>\n",
       "      <th>uniform_cell_shape</th>\n",
       "      <th>marginal_adhesion</th>\n",
       "      <th>signal_epithelial_size</th>\n",
       "      <th>bare_nuclei</th>\n",
       "      <th>bland_chromatin</th>\n",
       "      <th>normal_nucleoli</th>\n",
       "      <th>mitoses</th>\n",
       "      <th>class</th>\n",
       "    </tr>\n",
       "  </thead>\n",
       "  <tbody>\n",
       "    <tr>\n",
       "      <th>1000025</th>\n",
       "      <td>5</td>\n",
       "      <td>1</td>\n",
       "      <td>1</td>\n",
       "      <td>1</td>\n",
       "      <td>2</td>\n",
       "      <td>1</td>\n",
       "      <td>3</td>\n",
       "      <td>1</td>\n",
       "      <td>1</td>\n",
       "      <td>2</td>\n",
       "    </tr>\n",
       "    <tr>\n",
       "      <th>1002945</th>\n",
       "      <td>5</td>\n",
       "      <td>4</td>\n",
       "      <td>4</td>\n",
       "      <td>5</td>\n",
       "      <td>7</td>\n",
       "      <td>10</td>\n",
       "      <td>3</td>\n",
       "      <td>2</td>\n",
       "      <td>1</td>\n",
       "      <td>2</td>\n",
       "    </tr>\n",
       "    <tr>\n",
       "      <th>1015425</th>\n",
       "      <td>3</td>\n",
       "      <td>1</td>\n",
       "      <td>1</td>\n",
       "      <td>1</td>\n",
       "      <td>2</td>\n",
       "      <td>2</td>\n",
       "      <td>3</td>\n",
       "      <td>1</td>\n",
       "      <td>1</td>\n",
       "      <td>2</td>\n",
       "    </tr>\n",
       "    <tr>\n",
       "      <th>1016277</th>\n",
       "      <td>6</td>\n",
       "      <td>8</td>\n",
       "      <td>8</td>\n",
       "      <td>1</td>\n",
       "      <td>3</td>\n",
       "      <td>4</td>\n",
       "      <td>3</td>\n",
       "      <td>7</td>\n",
       "      <td>1</td>\n",
       "      <td>2</td>\n",
       "    </tr>\n",
       "    <tr>\n",
       "      <th>1017023</th>\n",
       "      <td>4</td>\n",
       "      <td>1</td>\n",
       "      <td>1</td>\n",
       "      <td>3</td>\n",
       "      <td>2</td>\n",
       "      <td>1</td>\n",
       "      <td>3</td>\n",
       "      <td>1</td>\n",
       "      <td>1</td>\n",
       "      <td>2</td>\n",
       "    </tr>\n",
       "  </tbody>\n",
       "</table>\n",
       "</div>"
      ],
      "text/plain": [
       "         clump_thickness  univore_cell_size  uniform_cell_shape  \\\n",
       "1000025                5                  1                   1   \n",
       "1002945                5                  4                   4   \n",
       "1015425                3                  1                   1   \n",
       "1016277                6                  8                   8   \n",
       "1017023                4                  1                   1   \n",
       "\n",
       "         marginal_adhesion  signal_epithelial_size bare_nuclei  \\\n",
       "1000025                  1                       2           1   \n",
       "1002945                  5                       7          10   \n",
       "1015425                  1                       2           2   \n",
       "1016277                  1                       3           4   \n",
       "1017023                  3                       2           1   \n",
       "\n",
       "         bland_chromatin  normal_nucleoli  mitoses  class  \n",
       "1000025                3                1        1      2  \n",
       "1002945                3                2        1      2  \n",
       "1015425                3                1        1      2  \n",
       "1016277                3                7        1      2  \n",
       "1017023                3                1        1      2  "
      ]
     },
     "execution_count": 12,
     "metadata": {},
     "output_type": "execute_result"
    }
   ],
   "source": [
    "db.head()"
   ]
  },
  {
   "cell_type": "code",
   "execution_count": 13,
   "metadata": {},
   "outputs": [
    {
     "name": "stdout",
     "output_type": "stream",
     "text": [
      "Index([u'clump_thickness', u'univore_cell_size', u'uniform_cell_shape',\n",
      "       u'marginal_adhesion', u'signal_epithelial_size', u'bare_nuclei',\n",
      "       u'bland_chromatin', u'normal_nucleoli', u'mitoses', u'class'],\n",
      "      dtype='object')\n"
     ]
    }
   ],
   "source": [
    "##Preprocessing the blank dataset\n",
    "\n",
    "db.replace('?' , -99999, inplace = True)\n",
    "\n",
    "print(db.columns)"
   ]
  },
  {
   "cell_type": "code",
   "execution_count": 14,
   "metadata": {},
   "outputs": [
    {
     "data": {
      "text/html": [
       "<div>\n",
       "<style scoped>\n",
       "    .dataframe tbody tr th:only-of-type {\n",
       "        vertical-align: middle;\n",
       "    }\n",
       "\n",
       "    .dataframe tbody tr th {\n",
       "        vertical-align: top;\n",
       "    }\n",
       "\n",
       "    .dataframe thead th {\n",
       "        text-align: right;\n",
       "    }\n",
       "</style>\n",
       "<table border=\"1\" class=\"dataframe\">\n",
       "  <thead>\n",
       "    <tr style=\"text-align: right;\">\n",
       "      <th></th>\n",
       "      <th>clump_thickness</th>\n",
       "      <th>univore_cell_size</th>\n",
       "      <th>uniform_cell_shape</th>\n",
       "      <th>marginal_adhesion</th>\n",
       "      <th>signal_epithelial_size</th>\n",
       "      <th>bland_chromatin</th>\n",
       "      <th>normal_nucleoli</th>\n",
       "      <th>mitoses</th>\n",
       "      <th>class</th>\n",
       "    </tr>\n",
       "  </thead>\n",
       "  <tbody>\n",
       "    <tr>\n",
       "      <th>count</th>\n",
       "      <td>699.000000</td>\n",
       "      <td>699.000000</td>\n",
       "      <td>699.000000</td>\n",
       "      <td>699.000000</td>\n",
       "      <td>699.000000</td>\n",
       "      <td>699.000000</td>\n",
       "      <td>699.000000</td>\n",
       "      <td>699.000000</td>\n",
       "      <td>699.000000</td>\n",
       "    </tr>\n",
       "    <tr>\n",
       "      <th>mean</th>\n",
       "      <td>4.417740</td>\n",
       "      <td>3.134478</td>\n",
       "      <td>3.207439</td>\n",
       "      <td>2.806867</td>\n",
       "      <td>3.216023</td>\n",
       "      <td>3.437768</td>\n",
       "      <td>2.866953</td>\n",
       "      <td>1.589413</td>\n",
       "      <td>2.689557</td>\n",
       "    </tr>\n",
       "    <tr>\n",
       "      <th>std</th>\n",
       "      <td>2.815741</td>\n",
       "      <td>3.051459</td>\n",
       "      <td>2.971913</td>\n",
       "      <td>2.855379</td>\n",
       "      <td>2.214300</td>\n",
       "      <td>2.438364</td>\n",
       "      <td>3.053634</td>\n",
       "      <td>1.715078</td>\n",
       "      <td>0.951273</td>\n",
       "    </tr>\n",
       "    <tr>\n",
       "      <th>min</th>\n",
       "      <td>1.000000</td>\n",
       "      <td>1.000000</td>\n",
       "      <td>1.000000</td>\n",
       "      <td>1.000000</td>\n",
       "      <td>1.000000</td>\n",
       "      <td>1.000000</td>\n",
       "      <td>1.000000</td>\n",
       "      <td>1.000000</td>\n",
       "      <td>2.000000</td>\n",
       "    </tr>\n",
       "    <tr>\n",
       "      <th>25%</th>\n",
       "      <td>2.000000</td>\n",
       "      <td>1.000000</td>\n",
       "      <td>1.000000</td>\n",
       "      <td>1.000000</td>\n",
       "      <td>2.000000</td>\n",
       "      <td>2.000000</td>\n",
       "      <td>1.000000</td>\n",
       "      <td>1.000000</td>\n",
       "      <td>2.000000</td>\n",
       "    </tr>\n",
       "    <tr>\n",
       "      <th>50%</th>\n",
       "      <td>4.000000</td>\n",
       "      <td>1.000000</td>\n",
       "      <td>1.000000</td>\n",
       "      <td>1.000000</td>\n",
       "      <td>2.000000</td>\n",
       "      <td>3.000000</td>\n",
       "      <td>1.000000</td>\n",
       "      <td>1.000000</td>\n",
       "      <td>2.000000</td>\n",
       "    </tr>\n",
       "    <tr>\n",
       "      <th>75%</th>\n",
       "      <td>6.000000</td>\n",
       "      <td>5.000000</td>\n",
       "      <td>5.000000</td>\n",
       "      <td>4.000000</td>\n",
       "      <td>4.000000</td>\n",
       "      <td>5.000000</td>\n",
       "      <td>4.000000</td>\n",
       "      <td>1.000000</td>\n",
       "      <td>4.000000</td>\n",
       "    </tr>\n",
       "    <tr>\n",
       "      <th>max</th>\n",
       "      <td>10.000000</td>\n",
       "      <td>10.000000</td>\n",
       "      <td>10.000000</td>\n",
       "      <td>10.000000</td>\n",
       "      <td>10.000000</td>\n",
       "      <td>10.000000</td>\n",
       "      <td>10.000000</td>\n",
       "      <td>10.000000</td>\n",
       "      <td>4.000000</td>\n",
       "    </tr>\n",
       "  </tbody>\n",
       "</table>\n",
       "</div>"
      ],
      "text/plain": [
       "       clump_thickness  univore_cell_size  uniform_cell_shape  \\\n",
       "count       699.000000         699.000000          699.000000   \n",
       "mean          4.417740           3.134478            3.207439   \n",
       "std           2.815741           3.051459            2.971913   \n",
       "min           1.000000           1.000000            1.000000   \n",
       "25%           2.000000           1.000000            1.000000   \n",
       "50%           4.000000           1.000000            1.000000   \n",
       "75%           6.000000           5.000000            5.000000   \n",
       "max          10.000000          10.000000           10.000000   \n",
       "\n",
       "       marginal_adhesion  signal_epithelial_size  bland_chromatin  \\\n",
       "count         699.000000              699.000000       699.000000   \n",
       "mean            2.806867                3.216023         3.437768   \n",
       "std             2.855379                2.214300         2.438364   \n",
       "min             1.000000                1.000000         1.000000   \n",
       "25%             1.000000                2.000000         2.000000   \n",
       "50%             1.000000                2.000000         3.000000   \n",
       "75%             4.000000                4.000000         5.000000   \n",
       "max            10.000000               10.000000        10.000000   \n",
       "\n",
       "       normal_nucleoli     mitoses       class  \n",
       "count       699.000000  699.000000  699.000000  \n",
       "mean          2.866953    1.589413    2.689557  \n",
       "std           3.053634    1.715078    0.951273  \n",
       "min           1.000000    1.000000    2.000000  \n",
       "25%           1.000000    1.000000    2.000000  \n",
       "50%           1.000000    1.000000    2.000000  \n",
       "75%           4.000000    1.000000    4.000000  \n",
       "max          10.000000   10.000000    4.000000  "
      ]
     },
     "execution_count": 14,
     "metadata": {},
     "output_type": "execute_result"
    }
   ],
   "source": [
    "##Printing the shape of the db\n",
    "db.shape\n",
    "db.describe()"
   ]
  },
  {
   "cell_type": "code",
   "execution_count": 15,
   "metadata": {},
   "outputs": [
    {
     "data": {
      "image/png": "[encoded data removed]",
      "text/plain": [
       "<Figure size 1296x1296 with 9 Axes>"
      ]
     },
     "metadata": {},
     "output_type": "display_data"
    }
   ],
   "source": [
    "##Plotting histograms for each columns\n",
    "\n",
    "db.hist(figsize =(18,18))\n",
    "plt.show()"
   ]
  },
  {
   "cell_type": "code",
   "execution_count": 16,
   "metadata": {},
   "outputs": [
    {
     "name": "stdout",
     "output_type": "stream",
     "text": [
      "[2 4 2 4 2 2 2 2 4 2 2 4 2 2 4 2 4 4 2 2 2 2 2 4 4 2 2 4 2 2 2 4 2 4 2 4 4\n",
      " 2 2 2 2 2 4 4 4 2 2 2 4 2 2 2 2 2 4 2 2 4 2 2 4 4 4 2 2 2 4 2 2 2 2 4 2 2\n",
      " 2 2 2 2 4 2 2 2 2 4 2 2 2 2 4 2 2 4 2 2 2 2 4 2 4 2 2 4 2 4 2 2 4 2 2 4 4\n",
      " 4 4 4 4 2 2 2 2 4 2 2 2 4 2 2 4 2 4 2 4 2 4 2 2 4 4 4 2 2 2 4 4 4 4 2 2 2\n",
      " 2 2 4 2 2 2 4 2 2 4 4 2 2 2 2 4 4 2 2 2 2 4 2 2 2 2 2 2 4 4 4 2 2 4 2 2 2\n",
      " 2 4 2 2 4 4 2 2 2 2 4 2 4 4 2 4 4 4 4 2 2 2 4 2 2 2 2 2 2 2 2 2 2 4 2 2 4\n",
      " 2 2 4 2 2 2 2 2 2 2 2 2 4 2 2 4 2 2 4 4 2 2 4 2 2 2 2 2 4 4 2 2 2 2 2 2 4\n",
      " 4 4 4 2 4 2 2 2 2 4 2 2 2 4 4 2 2 4 4 4 2 4 2 2 4 4 2 2 4 2 2 2 2 2 2 2 2\n",
      " 2 4 2 2 2 4 2 2 2 4 2 2 4 4 4 2 2 2 2 4 4 2 4 2 2 2 2 2 4 2 2 4 4 2 4 4 2\n",
      " 4 2 2 4 2 2 4 4 2 4 2 2 2 2 2 4 4 2 2 4 4 4 4 2 2 2 2 2 4 2 4 2 4 2 2 2 4\n",
      " 4 2 4 4 2 4 2 2 4 4 2 4 4 4 2 4 4 2 2 4 4 2 4 4 2 4 2 2 2 2 4 4 2 2 2 2 2\n",
      " 4 2 2 2 2 2 2 4 2 2 2 2 2 4 2 4 2 2 2 2 2 2 4 4 2 2 2 4 2 4 2 2 2 2 2 4 4\n",
      " 2 2 4 2 2 4 2 2 2 2 2 2 2 2 4 2 4 2 4 2 2 2 2 2 2 2 4 4 2 2 4 2 4 4 2 4 4\n",
      " 2 4 4 4 2 4 2 4 4 2 4 2 2 2 2 2 4 2 4 2 2 2 2 4 2 2 4 4 2 2 2 4 2 2 2 2 2\n",
      " 2 2 2 4 2 2 2 4 2 2 2 2 4 2 2 2 2 2 4 2 2 4 4 2 2 4 2 2 2 2 2 2 2 4 2 4 2\n",
      " 2 4 4 2]\n"
     ]
    }
   ],
   "source": [
    "##Training the Data\n",
    "\n",
    "array = db.values\n",
    "X = np.array(db.drop(['class'],1))\n",
    "y = np.array(db['class'])\n",
    "seed = 42\n",
    "scoring = 'accuracy'\n",
    "\n",
    "X_train, X_test, y_train,y_test = cross_validation.train_test_split(X,y, test_size = 0.20 , random_state = 8)\n",
    "print(y_train)"
   ]
  },
  {
   "cell_type": "markdown",
   "metadata": {},
   "source": []
  },
  {
   "cell_type": "code",
   "execution_count": 17,
   "metadata": {},
   "outputs": [
    {
     "name": "stdout",
     "output_type": "stream",
     "text": [
      "KNN Mean :0.969610 (Standard Deviation :0.021185)\n",
      "SVM Mean :0.962435 (Standard Deviation :0.023210)\n"
     ]
    }
   ],
   "source": [
    "models = []\n",
    "models.append(('KNN', KNeighborsClassifier(n_neighbors = 5)))\n",
    "models.append((\"SVM\", SVC()))\n",
    "\n",
    "##Evaluating each model through Cross-Validation\n",
    "results = []\n",
    "names = []\n",
    "\n",
    "for name, model in models :\n",
    "    kfold = model_selection.KFold(n_splits = 10, random_state = 1)\n",
    "    cross_val_results = model_selection.cross_val_score(model, X_train , y_train , cv = kfold , scoring = 'accuracy') \n",
    "    ##The cv splits the training data into 10 rows and uses each row for testing against the others for training. \n",
    "    results.append(cross_val_results)\n",
    "    names.append(name)\n",
    "    message = \"%s %s :%f (%s :%f)\" % (name, \"Mean\" , cross_val_results.mean() , \"Standard Deviation\" , cross_val_results.std())\n",
    "    print(message)"
   ]
  },
  {
   "cell_type": "code",
   "execution_count": 18,
   "metadata": {},
   "outputs": [
    {
     "name": "stdout",
     "output_type": "stream",
     "text": [
      "KNN\n",
      "0.9642857142857143\n",
      "             precision    recall  f1-score   support\n",
      "\n",
      "          2       1.00      0.95      0.97        92\n",
      "          4       0.91      1.00      0.95        48\n",
      "\n",
      "avg / total       0.97      0.96      0.96       140\n",
      "\n",
      "SVM\n",
      "0.9285714285714286\n",
      "             precision    recall  f1-score   support\n",
      "\n",
      "          2       1.00      0.89      0.94        92\n",
      "          4       0.83      1.00      0.91        48\n",
      "\n",
      "avg / total       0.94      0.93      0.93       140\n",
      "\n"
     ]
    }
   ],
   "source": [
    "for name , model in models:\n",
    "    model.fit(X_train, y_train)\n",
    "    predictions = model.predict(X_test)\n",
    "    print(name)\n",
    "    print(accuracy_score(y_test, predictions))\n",
    "    print(classification_report(y_test, predictions))\n",
    "    \n",
    "    "
   ]
  },
  {
   "cell_type": "code",
   "execution_count": 22,
   "metadata": {},
   "outputs": [
    {
     "name": "stdout",
     "output_type": "stream",
     "text": [
      "0.9642857142857143\n"
     ]
    }
   ],
   "source": [
    "model = KNeighborsClassifier(n_neighbors = 5)\n",
    "model.fit(X_train,y_train)\n",
    "accuracy = model.score(X_test,y_test)\n",
    "print(accuracy)\n"
   ]
  },
  {
   "cell_type": "code",
   "execution_count": null,
   "metadata": {},
   "outputs": [],
   "source": []
  },
  {
   "cell_type": "code",
   "execution_count": null,
   "metadata": {},
   "outputs": [],
   "source": []
  },
  {
   "cell_type": "code",
   "execution_count": null,
   "metadata": {},
   "outputs": [],
   "source": []
  }
 ],
 "metadata": {
  "kernelspec": {
   "display_name": "Python 2",
   "language": "python",
   "name": "python2"
  },
  "language_info": {
   "codemirror_mode": {
    "name": "ipython",
    "version": 2
   },
   "file_extension": ".py",
   "mimetype": "text/x-python",
   "name": "python",
   "nbconvert_exporter": "python",
   "pygments_lexer": "ipython2",
   "version": "2.7.15"
  }
 },
 "nbformat": 4,
 "nbformat_minor": 2
}
